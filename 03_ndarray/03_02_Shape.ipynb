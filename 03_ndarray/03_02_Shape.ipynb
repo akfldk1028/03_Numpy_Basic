{
 "cells": [
  {
   "cell_type": "markdown",
   "metadata": {},
   "source": [
    "## 3. ndarray 만들기"
   ]
  },
  {
   "cell_type": "markdown",
   "metadata": {},
   "source": [
    "### 3.2 정해진 shape으로 ndarray 만들기"
   ]
  },
  {
   "cell_type": "markdown",
   "metadata": {},
   "source": [
    "- 데이터 초기화할때 많이 쓰임 \n",
    "- numpy.zeros(shape, dtype=float, order='C', * , like=None)"
   ]
  },
  {
   "cell_type": "code",
   "execution_count": 1,
   "metadata": {},
   "outputs": [],
   "source": [
    "import numpy as np\n",
    "\n",
    "M = np.zeros(shape=(2,3))"
   ]
  },
  {
   "cell_type": "code",
   "execution_count": 2,
   "metadata": {},
   "outputs": [
    {
     "name": "stdout",
     "output_type": "stream",
     "text": [
      "(2, 3)\n",
      "[[0. 0. 0.]\n",
      " [0. 0. 0.]]\n"
     ]
    }
   ],
   "source": [
    "print(M.shape)\n",
    "print(M)"
   ]
  },
  {
   "cell_type": "markdown",
   "metadata": {},
   "source": [
    "- numpy.ones(shape, dtype=None, order='C',* , like=None)"
   ]
  },
  {
   "cell_type": "code",
   "execution_count": 3,
   "metadata": {},
   "outputs": [
    {
     "name": "stdout",
     "output_type": "stream",
     "text": [
      "(2, 3)\n",
      "[[1. 1. 1.]\n",
      " [1. 1. 1.]]\n"
     ]
    }
   ],
   "source": [
    "M = np.ones(shape=(2,3))\n",
    "print(M.shape)\n",
    "print(M)"
   ]
  },
  {
   "cell_type": "markdown",
   "metadata": {},
   "source": [
    "- numpy.full(shape, fill_value, dtype=None, order='C', * , like=None)\n",
    "- ndarray with Specific Values"
   ]
  },
  {
   "cell_type": "code",
   "execution_count": 4,
   "metadata": {},
   "outputs": [
    {
     "name": "stdout",
     "output_type": "stream",
     "text": [
      "(2, 3)\n",
      "[[3.14 3.14 3.14]\n",
      " [3.14 3.14 3.14]]\n"
     ]
    }
   ],
   "source": [
    "M =np.full(shape=(2,3), fill_value=3.14)\n",
    "print(M.shape)\n",
    "print(M)"
   ]
  },
  {
   "cell_type": "markdown",
   "metadata": {},
   "source": [
    "- numpy.empty(shape, dtype=float, order='C', * , like=None)"
   ]
  },
  {
   "cell_type": "markdown",
   "metadata": {},
   "source": [
    "메모리상에서 빈자리만 만들어놔라 (어떤 변수나 함수에서 사용했었던 메모리값을 그대로 사용)"
   ]
  },
  {
   "cell_type": "code",
   "execution_count": 5,
   "metadata": {},
   "outputs": [
    {
     "name": "stdout",
     "output_type": "stream",
     "text": [
      "(2, 3)\n",
      "[[3.14 3.14 3.14]\n",
      " [3.14 3.14 3.14]]\n"
     ]
    }
   ],
   "source": [
    "M =np.empty(shape=(2,3))\n",
    "print(M.shape)\n",
    "print(M)"
   ]
  },
  {
   "cell_type": "markdown",
   "metadata": {},
   "source": [
    "### 1. like라는 관점 (해당 tensor 와 비슷한)"
   ]
  },
  {
   "cell_type": "markdown",
   "metadata": {},
   "source": [
    "- numpy.full_like(a, fill_value, dtype=None, order='K', subok=True, shape=None)\n",
    "- numpy.zeros_like(a, dtype=None, order='K', subok=True, shape=None)"
   ]
  },
  {
   "cell_type": "code",
   "execution_count": 10,
   "metadata": {},
   "outputs": [
    {
     "name": "stdout",
     "output_type": "stream",
     "text": [
      "[[3.14 3.14 3.14]\n",
      " [3.14 3.14 3.14]] \n",
      "\n",
      "zeros_like: \n",
      " [[0. 0. 0.]\n",
      " [0. 0. 0.]] \n",
      "\n",
      "ones_like: \n",
      " [[1. 1. 1.]\n",
      " [1. 1. 1.]] \n",
      "\n",
      "full_like: \n",
      " [[100. 100. 100.]\n",
      " [100. 100. 100.]] \n",
      "\n",
      "empty_like: \n",
      " [[100. 100. 100.]\n",
      " [100. 100. 100.]] \n",
      "\n"
     ]
    }
   ],
   "source": [
    "import numpy as np\n",
    "M = np.full(shape=(2, 3), fill_value=3.14)\n",
    "print(M, '\\n')\n",
    "\n",
    "zeros_like = np.zeros_like(M)\n",
    "ones_like = np.ones_like(M)\n",
    "full_like = np.full_like(M, fill_value=100)\n",
    "empty_like = np.empty_like(M)\n",
    "\n",
    "print(\"zeros_like: \\n\", zeros_like, '\\n')\n",
    "print(\"ones_like: \\n\", ones_like, '\\n')\n",
    "print(\"full_like: \\n\", full_like, '\\n')\n",
    "print(\"empty_like: \\n\", empty_like, '\\n')"
   ]
  }
 ],
 "metadata": {
  "kernelspec": {
   "display_name": "env",
   "language": "python",
   "name": "python3"
  },
  "language_info": {
   "codemirror_mode": {
    "name": "ipython",
    "version": 3
   },
   "file_extension": ".py",
   "mimetype": "text/x-python",
   "name": "python",
   "nbconvert_exporter": "python",
   "pygments_lexer": "ipython3",
   "version": "3.11.6"
  }
 },
 "nbformat": 4,
 "nbformat_minor": 2
}
