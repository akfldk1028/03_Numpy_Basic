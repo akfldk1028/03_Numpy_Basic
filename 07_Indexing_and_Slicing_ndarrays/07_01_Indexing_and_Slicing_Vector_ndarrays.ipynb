{
 "cells": [
  {
   "cell_type": "markdown",
   "metadata": {},
   "source": [
    "## Indexing and Slicing Vector ndarrays\n"
   ]
  },
  {
   "cell_type": "code",
   "execution_count": 1,
   "metadata": {},
   "outputs": [
    {
     "name": "stdout",
     "output_type": "stream",
     "text": [
      "ndarray: \n",
      "[0 1 2 3 4 5 6 7 8 9]\n",
      "\n",
      "a[0] :  0\n",
      "a[2] :  2\n",
      "a[-1] :  9\n",
      "a[-2] :  8\n"
     ]
    }
   ],
   "source": [
    "import numpy as np\n",
    "a = np.arange(10)\n",
    "print(f\"ndarray: \\n{a}\\n\")\n",
    "      \n",
    "\n",
    "print(\"a[0] : \", a[0])\n",
    "print(\"a[2] : \", a[2])\n",
    "\n",
    "print(\"a[-1] : \", a[-1]) # the last element\n",
    "print(\"a[-2] : \", a[-2]) #"
   ]
  },
  {
   "cell_type": "code",
   "execution_count": 2,
   "metadata": {},
   "outputs": [
    {
     "name": "stdout",
     "output_type": "stream",
     "text": [
      "ndarray: \n",
      "[0 1 2 3 4]\n",
      "\n",
      "0\n",
      "1\n",
      "2\n",
      "3\n",
      "4\n"
     ]
    }
   ],
   "source": [
    "a = np.arange(5)\n",
    "print(f\"ndarray: \\n{a}\\n\")\n",
    "\n",
    "for data in a:\n",
    " print(data)"
   ]
  },
  {
   "cell_type": "code",
   "execution_count": 3,
   "metadata": {},
   "outputs": [
    {
     "name": "stdout",
     "output_type": "stream",
     "text": [
      "ndarray: \n",
      "[0 1 2 3 4 5 6 7 8 9]\n",
      "\n",
      "a[0:3] :  [0 1 2]\n",
      "a[3:7] :  [3 4 5 6]\n",
      "a[5:-1] :  [5 6 7 8]\n"
     ]
    }
   ],
   "source": [
    "import numpy as np\n",
    "a = np.arange(10)\n",
    "print(f\"ndarray: \\n{a}\\n\")\n",
    "print(\"a[0:3] : \", a[0:3])\n",
    "print(\"a[3:7] : \", a[3:7])\n",
    "print(\"a[5:-1] : \", a[5:-1])"
   ]
  },
  {
   "cell_type": "code",
   "execution_count": 4,
   "metadata": {},
   "outputs": [
    {
     "name": "stdout",
     "output_type": "stream",
     "text": [
      "ndarray: \n",
      "[0 1 2 3 4 5 6 7 8 9]\n",
      "\n",
      "a[2:] :  [2 3 4 5 6 7 8 9]\n",
      "a[-2:] :  [8 9]\n",
      "a[:5] :  [0 1 2 3 4]\n",
      "a[:-3] :  [0 1 2 3 4 5 6]\n",
      "a[:] :  [0 1 2 3 4 5 6 7 8 9]\n"
     ]
    }
   ],
   "source": [
    "import numpy as np\n",
    "a = np.arange(10)\n",
    "print(f\"ndarray: \\n{a}\\n\")\n",
    "print(\"a[2:] : \", a[2:])\n",
    "print(\"a[-2:] : \", a[-2:]) # the last two elements\n",
    "print(\"a[:5] : \", a[:5])\n",
    "print(\"a[:-3] : \", a[:-3])\n",
    "print(\"a[:] : \", a[:])"
   ]
  },
  {
   "cell_type": "code",
   "execution_count": 5,
   "metadata": {},
   "outputs": [
    {
     "name": "stdout",
     "output_type": "stream",
     "text": [
      "ndarray: \n",
      "[0 1 2 3 4 5 6 7 8 9]\n",
      "\n",
      "a[2:7:2] :  [2 4 6]\n",
      "a[::3] :  [0 3 6 9]\n"
     ]
    }
   ],
   "source": [
    "import numpy as np\n",
    "a = np.arange(10)\n",
    "print(f\"ndarray: \\n{a}\\n\")\n",
    "print(\"a[2:7:2] : \", a[2:7:2])\n",
    "print(\"a[::3] : \", a[::3])"
   ]
  },
  {
   "cell_type": "code",
   "execution_count": 6,
   "metadata": {},
   "outputs": [
    {
     "name": "stdout",
     "output_type": "stream",
     "text": [
      "ndarray: \n",
      "[0 1 2 3 4 5 6 7 8 9]\n",
      "\n",
      "a[7:2:-1] :  [7 6 5 4 3]\n",
      "a[::-1] :  [9 8 7 6 5 4 3 2 1 0]\n",
      "a[8:3:-2] :  [8 6 4]\n",
      "a[::-3] :  [9 6 3 0]\n"
     ]
    }
   ],
   "source": [
    "import numpy as np\n",
    "a = np.arange(10)\n",
    "print(f\"ndarray: \\n{a}\\n\")\n",
    "# 7부터 시작해서 2가되기 전까지 인데 방향을 반대로\n",
    "print(\"a[7:2:-1] : \", a[7:2:-1])\n",
    "print(\"a[::-1] : \", a[::-1])\n",
    "print(\"a[8:3:-2] : \", a[8:3:-2])\n",
    "# 전체다 가져오는데 3칸씩 띄어서\n",
    "print(\"a[::-3] : \", a[::-3])"
   ]
  },
  {
   "cell_type": "code",
   "execution_count": 7,
   "metadata": {},
   "outputs": [
    {
     "name": "stdout",
     "output_type": "stream",
     "text": [
      "ndarray: \n",
      "[0 1 2 3 4 5 6 7 8 9]\n",
      "\n",
      "[0 3 6 9]\n",
      "[0 3 6 9]\n",
      "[0 3 6 9]\n"
     ]
    }
   ],
   "source": [
    "import numpy as np\n",
    "a = np.arange(10)\n",
    "indices = np.array([0, 3, 6, -1])\n",
    "\n",
    "print(f\"ndarray: \\n{a}\\n\")\n",
    "#전부다 같은 의미임\n",
    "print(a[[0, 3, 6, -1]])\n",
    "print(a[indices])\n",
    "print(a[a%3==0])"
   ]
  },
  {
   "cell_type": "code",
   "execution_count": null,
   "metadata": {},
   "outputs": [],
   "source": []
  }
 ],
 "metadata": {
  "kernelspec": {
   "display_name": "env",
   "language": "python",
   "name": "python3"
  },
  "language_info": {
   "codemirror_mode": {
    "name": "ipython",
    "version": 3
   },
   "file_extension": ".py",
   "mimetype": "text/x-python",
   "name": "python",
   "nbconvert_exporter": "python",
   "pygments_lexer": "ipython3",
   "version": "3.11.6"
  }
 },
 "nbformat": 4,
 "nbformat_minor": 2
}
